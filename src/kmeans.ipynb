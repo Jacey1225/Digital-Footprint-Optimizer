{
 "cells": [
  {
   "cell_type": "markdown",
   "id": "fdeda6ff",
   "metadata": {},
   "source": [
    "Better Implementation of K-Means Clustering(Focus on organization and isoalting functionality)"
   ]
  },
  {
   "cell_type": "code",
   "execution_count": 39,
   "id": "f738beb8",
   "metadata": {},
   "outputs": [],
   "source": [
    "%matplotlib inline\n",
    "import math\n",
    "import random\n",
    "from sklearn.cluster import KMeans\n",
    "import numpy as np\n",
    "import matplotlib.pyplot as plt\n",
    "test_data = [4, 5, 7, 11, 13, 14]"
   ]
  },
  {
   "cell_type": "code",
   "execution_count": null,
   "id": "30f2a75f",
   "metadata": {},
   "outputs": [],
   "source": [
    "def elbow_k(data, max_k=5, allow_k_equals_1=True, threshold=0.1):\n",
    "    \n",
    "\n",
    "k = elbow_k(test_data, max_k=10)\n",
    "print(k)"
   ]
  },
  {
   "cell_type": "code",
   "execution_count": null,
   "id": "f2fdbd58",
   "metadata": {},
   "outputs": [],
   "source": [
    "def distances(data, target, centroids):\n",
    "    distance = [abs(target - point) for point in centroids]\n",
    "    return distance.index(min(distance)) #return the index of the oint that had the lowest distance"
   ]
  },
  {
   "cell_type": "code",
   "execution_count": null,
   "id": "f7aa8838",
   "metadata": {},
   "outputs": [],
   "source": [
    "def update_centroid(cluster_results, data):\n",
    "    updated_points = []\n",
    "    for random_points, points in cluster_results.items():\n",
    "        if points:\n",
    "            sum_points = 0\n",
    "            for point in points:\n",
    "                sum_points += data[point]\n",
    "            updated_points.append(sum_points / len(data)) #next cluster centroids will be the mean of each cluster\n",
    "        else:\n",
    "            updated_points.append(random.choice(data))\n",
    "    return updated_points"
   ]
  },
  {
   "cell_type": "code",
   "execution_count": null,
   "id": "a280d103",
   "metadata": {},
   "outputs": [
    {
     "name": "stdout",
     "output_type": "stream",
     "text": [
      "{0.5: [0.5, 0.51, 0.49, 0.52, 0.48], 0.008: [0, 0, 0, 0, 0, 0.01, 0.02, 0.03, 0.04, 0.05, 0, 0, 0, 0, 0, 0, 0, 0, 0, 0.01], 0.9970000000000001: [1, 0.99, 1.0, 0.98, 1.0, 1, 1, 1, 1, 1]}\n"
     ]
    }
   ],
   "source": [
    "def kmeans(data, k, iterations):\n",
    "    centroids = random.sample(data, k)\n",
    "    clusters = {random_point: [] for random_point in centroids}\n",
    "    for i in range(iterations):\n",
    "        new_clusters = {random_point: [] for random_point in centroids} #reset clusters for each iteration to update at the end of each outer loop\n",
    "        for j in range(len(data)): #iterate through the data and assign each point to the closest centroid\n",
    "            target = data[j]\n",
    "            index = distances(data, target, centroids)\n",
    "            new_clusters[centroids[index]].append(j)\n",
    "            new_centroids = update_centroid(new_clusters, data)\n",
    "\n",
    "            if new_centroids == centroids:\n",
    "                break\n",
    "\n",
    "        centroids = new_centroids\n",
    "        clusters = new_clusters\n",
    "    return clusters\n",
    "\n",
    "k = 3 # in real-time, k would be equal to the number of spikes in the data\n",
    "iterations = 10\n",
    "clusters = kmeans(test_data, k, iterations)\n",
    "print(clusters)"
   ]
  }
 ],
 "metadata": {
  "kernelspec": {
   "display_name": "venv",
   "language": "python",
   "name": "python3"
  },
  "language_info": {
   "codemirror_mode": {
    "name": "ipython",
    "version": 3
   },
   "file_extension": ".py",
   "mimetype": "text/x-python",
   "name": "python",
   "nbconvert_exporter": "python",
   "pygments_lexer": "ipython3",
   "version": "3.13.3"
  }
 },
 "nbformat": 4,
 "nbformat_minor": 5
}
